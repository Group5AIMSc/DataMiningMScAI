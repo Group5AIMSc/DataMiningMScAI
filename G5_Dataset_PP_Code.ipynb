{
  "cells": [
    {
      "cell_type": "code",
      "execution_count": 2,
      "metadata": {
        "id": "XWFx0Kn59_bN"
      },
      "outputs": [],
      "source": [
        "# Import libraries\n",
        "from google.colab import files\n",
        "import pandas as pd\n",
        "import numpy as np"
      ]
    },
    {
      "cell_type": "code",
      "execution_count": 3,
      "metadata": {
        "colab": {
          "base_uri": "https://localhost:8080/",
          "height": 142
        },
        "id": "MSBXfqqT-lr7",
        "outputId": "00be4c5d-85ba-47b6-ef62-6d9572dccf9f"
      },
      "outputs": [
        {
          "output_type": "display_data",
          "data": {
            "text/plain": [
              "<IPython.core.display.HTML object>"
            ],
            "text/html": [
              "\n",
              "     <input type=\"file\" id=\"files-97f0234e-d893-4121-b7cd-17dc0f565549\" name=\"files[]\" multiple disabled\n",
              "        style=\"border:none\" />\n",
              "     <output id=\"result-97f0234e-d893-4121-b7cd-17dc0f565549\">\n",
              "      Upload widget is only available when the cell has been executed in the\n",
              "      current browser session. Please rerun this cell to enable.\n",
              "      </output>\n",
              "      <script>// Copyright 2017 Google LLC\n",
              "//\n",
              "// Licensed under the Apache License, Version 2.0 (the \"License\");\n",
              "// you may not use this file except in compliance with the License.\n",
              "// You may obtain a copy of the License at\n",
              "//\n",
              "//      http://www.apache.org/licenses/LICENSE-2.0\n",
              "//\n",
              "// Unless required by applicable law or agreed to in writing, software\n",
              "// distributed under the License is distributed on an \"AS IS\" BASIS,\n",
              "// WITHOUT WARRANTIES OR CONDITIONS OF ANY KIND, either express or implied.\n",
              "// See the License for the specific language governing permissions and\n",
              "// limitations under the License.\n",
              "\n",
              "/**\n",
              " * @fileoverview Helpers for google.colab Python module.\n",
              " */\n",
              "(function(scope) {\n",
              "function span(text, styleAttributes = {}) {\n",
              "  const element = document.createElement('span');\n",
              "  element.textContent = text;\n",
              "  for (const key of Object.keys(styleAttributes)) {\n",
              "    element.style[key] = styleAttributes[key];\n",
              "  }\n",
              "  return element;\n",
              "}\n",
              "\n",
              "// Max number of bytes which will be uploaded at a time.\n",
              "const MAX_PAYLOAD_SIZE = 100 * 1024;\n",
              "\n",
              "function _uploadFiles(inputId, outputId) {\n",
              "  const steps = uploadFilesStep(inputId, outputId);\n",
              "  const outputElement = document.getElementById(outputId);\n",
              "  // Cache steps on the outputElement to make it available for the next call\n",
              "  // to uploadFilesContinue from Python.\n",
              "  outputElement.steps = steps;\n",
              "\n",
              "  return _uploadFilesContinue(outputId);\n",
              "}\n",
              "\n",
              "// This is roughly an async generator (not supported in the browser yet),\n",
              "// where there are multiple asynchronous steps and the Python side is going\n",
              "// to poll for completion of each step.\n",
              "// This uses a Promise to block the python side on completion of each step,\n",
              "// then passes the result of the previous step as the input to the next step.\n",
              "function _uploadFilesContinue(outputId) {\n",
              "  const outputElement = document.getElementById(outputId);\n",
              "  const steps = outputElement.steps;\n",
              "\n",
              "  const next = steps.next(outputElement.lastPromiseValue);\n",
              "  return Promise.resolve(next.value.promise).then((value) => {\n",
              "    // Cache the last promise value to make it available to the next\n",
              "    // step of the generator.\n",
              "    outputElement.lastPromiseValue = value;\n",
              "    return next.value.response;\n",
              "  });\n",
              "}\n",
              "\n",
              "/**\n",
              " * Generator function which is called between each async step of the upload\n",
              " * process.\n",
              " * @param {string} inputId Element ID of the input file picker element.\n",
              " * @param {string} outputId Element ID of the output display.\n",
              " * @return {!Iterable<!Object>} Iterable of next steps.\n",
              " */\n",
              "function* uploadFilesStep(inputId, outputId) {\n",
              "  const inputElement = document.getElementById(inputId);\n",
              "  inputElement.disabled = false;\n",
              "\n",
              "  const outputElement = document.getElementById(outputId);\n",
              "  outputElement.innerHTML = '';\n",
              "\n",
              "  const pickedPromise = new Promise((resolve) => {\n",
              "    inputElement.addEventListener('change', (e) => {\n",
              "      resolve(e.target.files);\n",
              "    });\n",
              "  });\n",
              "\n",
              "  const cancel = document.createElement('button');\n",
              "  inputElement.parentElement.appendChild(cancel);\n",
              "  cancel.textContent = 'Cancel upload';\n",
              "  const cancelPromise = new Promise((resolve) => {\n",
              "    cancel.onclick = () => {\n",
              "      resolve(null);\n",
              "    };\n",
              "  });\n",
              "\n",
              "  // Wait for the user to pick the files.\n",
              "  const files = yield {\n",
              "    promise: Promise.race([pickedPromise, cancelPromise]),\n",
              "    response: {\n",
              "      action: 'starting',\n",
              "    }\n",
              "  };\n",
              "\n",
              "  cancel.remove();\n",
              "\n",
              "  // Disable the input element since further picks are not allowed.\n",
              "  inputElement.disabled = true;\n",
              "\n",
              "  if (!files) {\n",
              "    return {\n",
              "      response: {\n",
              "        action: 'complete',\n",
              "      }\n",
              "    };\n",
              "  }\n",
              "\n",
              "  for (const file of files) {\n",
              "    const li = document.createElement('li');\n",
              "    li.append(span(file.name, {fontWeight: 'bold'}));\n",
              "    li.append(span(\n",
              "        `(${file.type || 'n/a'}) - ${file.size} bytes, ` +\n",
              "        `last modified: ${\n",
              "            file.lastModifiedDate ? file.lastModifiedDate.toLocaleDateString() :\n",
              "                                    'n/a'} - `));\n",
              "    const percent = span('0% done');\n",
              "    li.appendChild(percent);\n",
              "\n",
              "    outputElement.appendChild(li);\n",
              "\n",
              "    const fileDataPromise = new Promise((resolve) => {\n",
              "      const reader = new FileReader();\n",
              "      reader.onload = (e) => {\n",
              "        resolve(e.target.result);\n",
              "      };\n",
              "      reader.readAsArrayBuffer(file);\n",
              "    });\n",
              "    // Wait for the data to be ready.\n",
              "    let fileData = yield {\n",
              "      promise: fileDataPromise,\n",
              "      response: {\n",
              "        action: 'continue',\n",
              "      }\n",
              "    };\n",
              "\n",
              "    // Use a chunked sending to avoid message size limits. See b/62115660.\n",
              "    let position = 0;\n",
              "    do {\n",
              "      const length = Math.min(fileData.byteLength - position, MAX_PAYLOAD_SIZE);\n",
              "      const chunk = new Uint8Array(fileData, position, length);\n",
              "      position += length;\n",
              "\n",
              "      const base64 = btoa(String.fromCharCode.apply(null, chunk));\n",
              "      yield {\n",
              "        response: {\n",
              "          action: 'append',\n",
              "          file: file.name,\n",
              "          data: base64,\n",
              "        },\n",
              "      };\n",
              "\n",
              "      let percentDone = fileData.byteLength === 0 ?\n",
              "          100 :\n",
              "          Math.round((position / fileData.byteLength) * 100);\n",
              "      percent.textContent = `${percentDone}% done`;\n",
              "\n",
              "    } while (position < fileData.byteLength);\n",
              "  }\n",
              "\n",
              "  // All done.\n",
              "  yield {\n",
              "    response: {\n",
              "      action: 'complete',\n",
              "    }\n",
              "  };\n",
              "}\n",
              "\n",
              "scope.google = scope.google || {};\n",
              "scope.google.colab = scope.google.colab || {};\n",
              "scope.google.colab._files = {\n",
              "  _uploadFiles,\n",
              "  _uploadFilesContinue,\n",
              "};\n",
              "})(self);\n",
              "</script> "
            ]
          },
          "metadata": {}
        },
        {
          "output_type": "stream",
          "name": "stdout",
          "text": [
            "Saving NYC_Taxi_Dataset_December.csv to NYC_Taxi_Dataset_December.csv\n",
            "Saving NYC_Taxi_Dataset_November.csv to NYC_Taxi_Dataset_November.csv\n",
            "Saving NYC_Taxi_Dataset_October.csv to NYC_Taxi_Dataset_October.csv\n"
          ]
        }
      ],
      "source": [
        "uploaded = files.upload()\n",
        "# Uploading dataset from computer"
      ]
    },
    {
      "cell_type": "code",
      "execution_count": 4,
      "metadata": {
        "id": "nR1yDrCr_WTn",
        "colab": {
          "base_uri": "https://localhost:8080/"
        },
        "outputId": "368cd94e-c73e-4d8c-e62c-5259edd04fc7"
      },
      "outputs": [
        {
          "output_type": "stream",
          "name": "stderr",
          "text": [
            "/tmp/ipython-input-257206115.py:3: DtypeWarning: Columns (3,5,17,18) have mixed types. Specify dtype option on import or set low_memory=False.\n",
            "  df = pd.read_csv(filename)\n"
          ]
        },
        {
          "output_type": "stream",
          "name": "stdout",
          "text": [
            "Loaded NYC_Taxi_Dataset_December.csv: (3376567, 19)\n"
          ]
        },
        {
          "output_type": "stream",
          "name": "stderr",
          "text": [
            "/tmp/ipython-input-257206115.py:3: DtypeWarning: Columns (3,5,17,18) have mixed types. Specify dtype option on import or set low_memory=False.\n",
            "  df = pd.read_csv(filename)\n"
          ]
        },
        {
          "output_type": "stream",
          "name": "stdout",
          "text": [
            "Loaded NYC_Taxi_Dataset_November.csv: (3339715, 19)\n"
          ]
        },
        {
          "output_type": "stream",
          "name": "stderr",
          "text": [
            "/tmp/ipython-input-257206115.py:3: DtypeWarning: Columns (3,5,17,18) have mixed types. Specify dtype option on import or set low_memory=False.\n",
            "  df = pd.read_csv(filename)\n"
          ]
        },
        {
          "output_type": "stream",
          "name": "stdout",
          "text": [
            "Loaded NYC_Taxi_Dataset_October.csv: (3522285, 19)\n"
          ]
        }
      ],
      "source": [
        "dfs = []\n",
        "for filename in uploaded.keys():\n",
        "    df = pd.read_csv(filename)\n",
        "    dfs.append(df)\n",
        "    print(f\"Loaded {filename}: {df.shape}\")\n",
        "    # Load all uploaded CSVs into one list"
      ]
    },
    {
      "cell_type": "code",
      "source": [
        "df = pd.concat(dfs, ignore_index=True)\n",
        "print(\"\\nCombined dataset shape:\", df.shape)\n",
        "# Combine all months into one dataset"
      ],
      "metadata": {
        "colab": {
          "base_uri": "https://localhost:8080/"
        },
        "id": "vQkr49anXhdw",
        "outputId": "8c598cd6-bb11-49b0-f4fc-227479fe912a"
      },
      "execution_count": 5,
      "outputs": [
        {
          "output_type": "stream",
          "name": "stdout",
          "text": [
            "\n",
            "Combined dataset shape: (10238567, 19)\n"
          ]
        }
      ]
    },
    {
      "cell_type": "code",
      "source": [
        "print(\"\\nDataset information:\")\n",
        "print(df.info())\n",
        "# Inspect dataset"
      ],
      "metadata": {
        "colab": {
          "base_uri": "https://localhost:8080/"
        },
        "id": "sS6w5jOAXtLV",
        "outputId": "91e8baca-1536-4ea3-b473-60f04edabf51"
      },
      "execution_count": 6,
      "outputs": [
        {
          "output_type": "stream",
          "name": "stdout",
          "text": [
            "\n",
            "Dataset information:\n",
            "<class 'pandas.core.frame.DataFrame'>\n",
            "RangeIndex: 10238567 entries, 0 to 10238566\n",
            "Data columns (total 19 columns):\n",
            " #   Column                 Dtype  \n",
            "---  ------                 -----  \n",
            " 0   VendorID               int64  \n",
            " 1   tpep_pickup_datetime   object \n",
            " 2   tpep_dropoff_datetime  object \n",
            " 3   passenger_count        object \n",
            " 4   trip_distance          float64\n",
            " 5   RatecodeID             object \n",
            " 6   store_and_fwd_flag     object \n",
            " 7   PULocationID           int64  \n",
            " 8   DOLocationID           int64  \n",
            " 9   payment_type           int64  \n",
            " 10  fare_amount            float64\n",
            " 11  extra                  float64\n",
            " 12  mta_tax                float64\n",
            " 13  tip_amount             float64\n",
            " 14  tolls_amount           float64\n",
            " 15  improvement_surcharge  float64\n",
            " 16  total_amount           float64\n",
            " 17  congestion_surcharge   object \n",
            " 18  Airport_fee            object \n",
            "dtypes: float64(8), int64(4), object(7)\n",
            "memory usage: 1.4+ GB\n",
            "None\n"
          ]
        }
      ]
    },
    {
      "cell_type": "code",
      "source": [
        "df[\"tpep_pickup_datetime\"] = pd.to_datetime(\n",
        "    df[\"tpep_pickup_datetime\"], format=\"%Y-%m-%d %H:%M:%S\", errors=\"coerce\"\n",
        ")\n",
        "df[\"tpep_dropoff_datetime\"] = pd.to_datetime(\n",
        "    df[\"tpep_dropoff_datetime\"], format=\"%Y-%m-%d %H:%M:%S\", errors=\"coerce\"\n",
        ")\n",
        "# Convert pickup and dropoff times to datetime format safely"
      ],
      "metadata": {
        "id": "mFHM5zHfX3mi"
      },
      "execution_count": 8,
      "outputs": []
    },
    {
      "cell_type": "code",
      "source": [
        "print(\"\\nPercentage of nulls (NaN + 0) per column:\")\n",
        "nulls = (df.isna().mean() * 100).sort_values(ascending=False)\n",
        "print(nulls)\n",
        "# Check for missing or zero values"
      ],
      "metadata": {
        "colab": {
          "base_uri": "https://localhost:8080/"
        },
        "id": "CggiPWzKX847",
        "outputId": "0e4f035c-47c6-4ac0-94f7-acecd32f7a11"
      },
      "execution_count": 9,
      "outputs": [
        {
          "output_type": "stream",
          "name": "stdout",
          "text": [
            "\n",
            "Percentage of nulls (NaN + 0) per column:\n",
            "VendorID                 0.0\n",
            "tpep_pickup_datetime     0.0\n",
            "tpep_dropoff_datetime    0.0\n",
            "passenger_count          0.0\n",
            "trip_distance            0.0\n",
            "RatecodeID               0.0\n",
            "store_and_fwd_flag       0.0\n",
            "PULocationID             0.0\n",
            "DOLocationID             0.0\n",
            "payment_type             0.0\n",
            "fare_amount              0.0\n",
            "extra                    0.0\n",
            "mta_tax                  0.0\n",
            "tip_amount               0.0\n",
            "tolls_amount             0.0\n",
            "improvement_surcharge    0.0\n",
            "total_amount             0.0\n",
            "congestion_surcharge     0.0\n",
            "Airport_fee              0.0\n",
            "dtype: float64\n"
          ]
        }
      ]
    },
    {
      "cell_type": "code",
      "source": [
        "# Check % of missing data including zeros\n",
        "print(\"\\nPercentage of nulls (NaN + 0) per column:\")\n",
        "nulls = (df.isna().mean() * 100).sort_values(ascending=False)\n",
        "zeros = (df.eq(0).mean() * 100).sort_values(ascending=False)\n",
        "print(nulls.add(zeros, fill_value=0))"
      ],
      "metadata": {
        "colab": {
          "base_uri": "https://localhost:8080/"
        },
        "id": "E2Z8FMGuYbic",
        "outputId": "ad472572-02d6-4242-ff18-108b760292f8"
      },
      "execution_count": 11,
      "outputs": [
        {
          "output_type": "stream",
          "name": "stdout",
          "text": [
            "\n",
            "Percentage of nulls (NaN + 0) per column:\n",
            "Airport_fee              86.044522\n",
            "DOLocationID              0.000000\n",
            "PULocationID              0.000000\n",
            "RatecodeID                0.000000\n",
            "VendorID                  0.000000\n",
            "congestion_surcharge      6.856116\n",
            "extra                    41.880724\n",
            "fare_amount               0.031577\n",
            "improvement_surcharge     0.043141\n",
            "mta_tax                   1.086763\n",
            "passenger_count           1.260333\n",
            "payment_type              4.567114\n",
            "store_and_fwd_flag        0.000000\n",
            "tip_amount               24.056931\n",
            "tolls_amount             91.898417\n",
            "total_amount              0.014445\n",
            "tpep_dropoff_datetime     0.000000\n",
            "tpep_pickup_datetime      0.000000\n",
            "trip_distance             2.906676\n",
            "dtype: float64\n"
          ]
        }
      ]
    },
    {
      "cell_type": "code",
      "source": [
        "# Define critical columns (where 0s are invalid)\n",
        "critical_cols = [\"trip_distance\", \"fare_amount\", \"total_amount\", \"passenger_count\"]"
      ],
      "metadata": {
        "id": "7g69tjZMY3z_"
      },
      "execution_count": 12,
      "outputs": []
    },
    {
      "cell_type": "code",
      "source": [
        "df[critical_cols] = df[critical_cols].replace(0, np.nan)\n",
        "# Replace zeros with NaN in those columns"
      ],
      "metadata": {
        "id": "zgxJw4LUZyLj"
      },
      "execution_count": 13,
      "outputs": []
    },
    {
      "cell_type": "code",
      "source": [
        "df_clean = df.dropna(subset=critical_cols)\n",
        "# Drop rows missing critical data"
      ],
      "metadata": {
        "id": "daNQJIDRZ3En"
      },
      "execution_count": 14,
      "outputs": []
    },
    {
      "cell_type": "code",
      "source": [
        "print(\"\\n Cleaned dataset successfully!\")\n",
        "print(\"Before cleaning:\", df.shape)\n",
        "print(\"After cleaning:\", df_clean.shape)"
      ],
      "metadata": {
        "colab": {
          "base_uri": "https://localhost:8080/"
        },
        "id": "pMJOuQ7gZ951",
        "outputId": "337a6f46-cb33-4052-e04a-21f7e9fdd6fd"
      },
      "execution_count": 15,
      "outputs": [
        {
          "output_type": "stream",
          "name": "stdout",
          "text": [
            "\n",
            " Cleaned dataset successfully!\n",
            "Before cleaning: (10238567, 19)\n",
            "After cleaning: (9813848, 19)\n"
          ]
        }
      ]
    },
    {
      "cell_type": "code",
      "source": [
        "# Verify remaining nulls\n",
        "print(\"\\nRemaining percentage of missing data:\")\n",
        "print((df_clean.isna().mean() * 100).sort_values(ascending=False))"
      ],
      "metadata": {
        "colab": {
          "base_uri": "https://localhost:8080/"
        },
        "id": "v0lq9UqJaBxi",
        "outputId": "7fad073d-6ce3-4077-af7b-6529fa598b1c"
      },
      "execution_count": 16,
      "outputs": [
        {
          "output_type": "stream",
          "name": "stdout",
          "text": [
            "\n",
            "Remaining percentage of missing data:\n",
            "VendorID                 0.0\n",
            "tpep_pickup_datetime     0.0\n",
            "tpep_dropoff_datetime    0.0\n",
            "passenger_count          0.0\n",
            "trip_distance            0.0\n",
            "RatecodeID               0.0\n",
            "store_and_fwd_flag       0.0\n",
            "PULocationID             0.0\n",
            "DOLocationID             0.0\n",
            "payment_type             0.0\n",
            "fare_amount              0.0\n",
            "extra                    0.0\n",
            "mta_tax                  0.0\n",
            "tip_amount               0.0\n",
            "tolls_amount             0.0\n",
            "improvement_surcharge    0.0\n",
            "total_amount             0.0\n",
            "congestion_surcharge     0.0\n",
            "Airport_fee              0.0\n",
            "dtype: float64\n"
          ]
        }
      ]
    },
    {
      "cell_type": "code",
      "source": [
        "df_clean.to_csv(\"NYC_Taxi_Cleaned_3Months.csv\", index=False)\n",
        "df_clean.to_csv(\"NYC_Taxi_Cleaned_3Months.csv.gz\", index=False, compression=\"gzip\")"
      ],
      "metadata": {
        "id": "8p9Lp6vnaFe6"
      },
      "execution_count": 17,
      "outputs": []
    },
    {
      "cell_type": "code",
      "source": [
        "print(\"\\n Original Dataset Statistics:\")\n",
        "display(df[critical_cols].describe())\n",
        "\n",
        "print(\"\\n Cleaned Dataset Statistics:\")\n",
        "display(df_clean[critical_cols].describe())"
      ],
      "metadata": {
        "colab": {
          "base_uri": "https://localhost:8080/",
          "height": 653
        },
        "id": "6DDGecOwaLMW",
        "outputId": "3c5f7497-cc64-4acb-b95e-e50fa3799b03"
      },
      "execution_count": 18,
      "outputs": [
        {
          "output_type": "stream",
          "name": "stdout",
          "text": [
            "\n",
            " Original Dataset Statistics:\n"
          ]
        },
        {
          "output_type": "display_data",
          "data": {
            "text/plain": [
              "       trip_distance   fare_amount  total_amount\n",
              "count   9.940965e+06  1.023533e+07  1.023709e+07\n",
              "mean    3.860429e+00  1.980391e+01  2.881270e+01\n",
              "std     1.625701e+02  1.903667e+01  2.394633e+01\n",
              "min     1.000000e-02 -1.087300e+03 -1.094050e+03\n",
              "25%     1.060000e+00  9.300000e+00  1.610000e+01\n",
              "50%     1.780000e+00  1.420000e+01  2.148000e+01\n",
              "75%     3.380000e+00  2.269000e+01  3.156000e+01\n",
              "max     2.055442e+05  6.339000e+03  6.339000e+03"
            ],
            "text/html": [
              "\n",
              "  <div id=\"df-d97778c0-dd7b-4b57-88a2-43df1b8d8d0c\" class=\"colab-df-container\">\n",
              "    <div>\n",
              "<style scoped>\n",
              "    .dataframe tbody tr th:only-of-type {\n",
              "        vertical-align: middle;\n",
              "    }\n",
              "\n",
              "    .dataframe tbody tr th {\n",
              "        vertical-align: top;\n",
              "    }\n",
              "\n",
              "    .dataframe thead th {\n",
              "        text-align: right;\n",
              "    }\n",
              "</style>\n",
              "<table border=\"1\" class=\"dataframe\">\n",
              "  <thead>\n",
              "    <tr style=\"text-align: right;\">\n",
              "      <th></th>\n",
              "      <th>trip_distance</th>\n",
              "      <th>fare_amount</th>\n",
              "      <th>total_amount</th>\n",
              "    </tr>\n",
              "  </thead>\n",
              "  <tbody>\n",
              "    <tr>\n",
              "      <th>count</th>\n",
              "      <td>9.940965e+06</td>\n",
              "      <td>1.023533e+07</td>\n",
              "      <td>1.023709e+07</td>\n",
              "    </tr>\n",
              "    <tr>\n",
              "      <th>mean</th>\n",
              "      <td>3.860429e+00</td>\n",
              "      <td>1.980391e+01</td>\n",
              "      <td>2.881270e+01</td>\n",
              "    </tr>\n",
              "    <tr>\n",
              "      <th>std</th>\n",
              "      <td>1.625701e+02</td>\n",
              "      <td>1.903667e+01</td>\n",
              "      <td>2.394633e+01</td>\n",
              "    </tr>\n",
              "    <tr>\n",
              "      <th>min</th>\n",
              "      <td>1.000000e-02</td>\n",
              "      <td>-1.087300e+03</td>\n",
              "      <td>-1.094050e+03</td>\n",
              "    </tr>\n",
              "    <tr>\n",
              "      <th>25%</th>\n",
              "      <td>1.060000e+00</td>\n",
              "      <td>9.300000e+00</td>\n",
              "      <td>1.610000e+01</td>\n",
              "    </tr>\n",
              "    <tr>\n",
              "      <th>50%</th>\n",
              "      <td>1.780000e+00</td>\n",
              "      <td>1.420000e+01</td>\n",
              "      <td>2.148000e+01</td>\n",
              "    </tr>\n",
              "    <tr>\n",
              "      <th>75%</th>\n",
              "      <td>3.380000e+00</td>\n",
              "      <td>2.269000e+01</td>\n",
              "      <td>3.156000e+01</td>\n",
              "    </tr>\n",
              "    <tr>\n",
              "      <th>max</th>\n",
              "      <td>2.055442e+05</td>\n",
              "      <td>6.339000e+03</td>\n",
              "      <td>6.339000e+03</td>\n",
              "    </tr>\n",
              "  </tbody>\n",
              "</table>\n",
              "</div>\n",
              "    <div class=\"colab-df-buttons\">\n",
              "\n",
              "  <div class=\"colab-df-container\">\n",
              "    <button class=\"colab-df-convert\" onclick=\"convertToInteractive('df-d97778c0-dd7b-4b57-88a2-43df1b8d8d0c')\"\n",
              "            title=\"Convert this dataframe to an interactive table.\"\n",
              "            style=\"display:none;\">\n",
              "\n",
              "  <svg xmlns=\"http://www.w3.org/2000/svg\" height=\"24px\" viewBox=\"0 -960 960 960\">\n",
              "    <path d=\"M120-120v-720h720v720H120Zm60-500h600v-160H180v160Zm220 220h160v-160H400v160Zm0 220h160v-160H400v160ZM180-400h160v-160H180v160Zm440 0h160v-160H620v160ZM180-180h160v-160H180v160Zm440 0h160v-160H620v160Z\"/>\n",
              "  </svg>\n",
              "    </button>\n",
              "\n",
              "  <style>\n",
              "    .colab-df-container {\n",
              "      display:flex;\n",
              "      gap: 12px;\n",
              "    }\n",
              "\n",
              "    .colab-df-convert {\n",
              "      background-color: #E8F0FE;\n",
              "      border: none;\n",
              "      border-radius: 50%;\n",
              "      cursor: pointer;\n",
              "      display: none;\n",
              "      fill: #1967D2;\n",
              "      height: 32px;\n",
              "      padding: 0 0 0 0;\n",
              "      width: 32px;\n",
              "    }\n",
              "\n",
              "    .colab-df-convert:hover {\n",
              "      background-color: #E2EBFA;\n",
              "      box-shadow: 0px 1px 2px rgba(60, 64, 67, 0.3), 0px 1px 3px 1px rgba(60, 64, 67, 0.15);\n",
              "      fill: #174EA6;\n",
              "    }\n",
              "\n",
              "    .colab-df-buttons div {\n",
              "      margin-bottom: 4px;\n",
              "    }\n",
              "\n",
              "    [theme=dark] .colab-df-convert {\n",
              "      background-color: #3B4455;\n",
              "      fill: #D2E3FC;\n",
              "    }\n",
              "\n",
              "    [theme=dark] .colab-df-convert:hover {\n",
              "      background-color: #434B5C;\n",
              "      box-shadow: 0px 1px 3px 1px rgba(0, 0, 0, 0.15);\n",
              "      filter: drop-shadow(0px 1px 2px rgba(0, 0, 0, 0.3));\n",
              "      fill: #FFFFFF;\n",
              "    }\n",
              "  </style>\n",
              "\n",
              "    <script>\n",
              "      const buttonEl =\n",
              "        document.querySelector('#df-d97778c0-dd7b-4b57-88a2-43df1b8d8d0c button.colab-df-convert');\n",
              "      buttonEl.style.display =\n",
              "        google.colab.kernel.accessAllowed ? 'block' : 'none';\n",
              "\n",
              "      async function convertToInteractive(key) {\n",
              "        const element = document.querySelector('#df-d97778c0-dd7b-4b57-88a2-43df1b8d8d0c');\n",
              "        const dataTable =\n",
              "          await google.colab.kernel.invokeFunction('convertToInteractive',\n",
              "                                                    [key], {});\n",
              "        if (!dataTable) return;\n",
              "\n",
              "        const docLinkHtml = 'Like what you see? Visit the ' +\n",
              "          '<a target=\"_blank\" href=https://colab.research.google.com/notebooks/data_table.ipynb>data table notebook</a>'\n",
              "          + ' to learn more about interactive tables.';\n",
              "        element.innerHTML = '';\n",
              "        dataTable['output_type'] = 'display_data';\n",
              "        await google.colab.output.renderOutput(dataTable, element);\n",
              "        const docLink = document.createElement('div');\n",
              "        docLink.innerHTML = docLinkHtml;\n",
              "        element.appendChild(docLink);\n",
              "      }\n",
              "    </script>\n",
              "  </div>\n",
              "\n",
              "\n",
              "    <div id=\"df-7b658159-4a48-416a-a231-55e8fa4853a1\">\n",
              "      <button class=\"colab-df-quickchart\" onclick=\"quickchart('df-7b658159-4a48-416a-a231-55e8fa4853a1')\"\n",
              "                title=\"Suggest charts\"\n",
              "                style=\"display:none;\">\n",
              "\n",
              "<svg xmlns=\"http://www.w3.org/2000/svg\" height=\"24px\"viewBox=\"0 0 24 24\"\n",
              "     width=\"24px\">\n",
              "    <g>\n",
              "        <path d=\"M19 3H5c-1.1 0-2 .9-2 2v14c0 1.1.9 2 2 2h14c1.1 0 2-.9 2-2V5c0-1.1-.9-2-2-2zM9 17H7v-7h2v7zm4 0h-2V7h2v10zm4 0h-2v-4h2v4z\"/>\n",
              "    </g>\n",
              "</svg>\n",
              "      </button>\n",
              "\n",
              "<style>\n",
              "  .colab-df-quickchart {\n",
              "      --bg-color: #E8F0FE;\n",
              "      --fill-color: #1967D2;\n",
              "      --hover-bg-color: #E2EBFA;\n",
              "      --hover-fill-color: #174EA6;\n",
              "      --disabled-fill-color: #AAA;\n",
              "      --disabled-bg-color: #DDD;\n",
              "  }\n",
              "\n",
              "  [theme=dark] .colab-df-quickchart {\n",
              "      --bg-color: #3B4455;\n",
              "      --fill-color: #D2E3FC;\n",
              "      --hover-bg-color: #434B5C;\n",
              "      --hover-fill-color: #FFFFFF;\n",
              "      --disabled-bg-color: #3B4455;\n",
              "      --disabled-fill-color: #666;\n",
              "  }\n",
              "\n",
              "  .colab-df-quickchart {\n",
              "    background-color: var(--bg-color);\n",
              "    border: none;\n",
              "    border-radius: 50%;\n",
              "    cursor: pointer;\n",
              "    display: none;\n",
              "    fill: var(--fill-color);\n",
              "    height: 32px;\n",
              "    padding: 0;\n",
              "    width: 32px;\n",
              "  }\n",
              "\n",
              "  .colab-df-quickchart:hover {\n",
              "    background-color: var(--hover-bg-color);\n",
              "    box-shadow: 0 1px 2px rgba(60, 64, 67, 0.3), 0 1px 3px 1px rgba(60, 64, 67, 0.15);\n",
              "    fill: var(--button-hover-fill-color);\n",
              "  }\n",
              "\n",
              "  .colab-df-quickchart-complete:disabled,\n",
              "  .colab-df-quickchart-complete:disabled:hover {\n",
              "    background-color: var(--disabled-bg-color);\n",
              "    fill: var(--disabled-fill-color);\n",
              "    box-shadow: none;\n",
              "  }\n",
              "\n",
              "  .colab-df-spinner {\n",
              "    border: 2px solid var(--fill-color);\n",
              "    border-color: transparent;\n",
              "    border-bottom-color: var(--fill-color);\n",
              "    animation:\n",
              "      spin 1s steps(1) infinite;\n",
              "  }\n",
              "\n",
              "  @keyframes spin {\n",
              "    0% {\n",
              "      border-color: transparent;\n",
              "      border-bottom-color: var(--fill-color);\n",
              "      border-left-color: var(--fill-color);\n",
              "    }\n",
              "    20% {\n",
              "      border-color: transparent;\n",
              "      border-left-color: var(--fill-color);\n",
              "      border-top-color: var(--fill-color);\n",
              "    }\n",
              "    30% {\n",
              "      border-color: transparent;\n",
              "      border-left-color: var(--fill-color);\n",
              "      border-top-color: var(--fill-color);\n",
              "      border-right-color: var(--fill-color);\n",
              "    }\n",
              "    40% {\n",
              "      border-color: transparent;\n",
              "      border-right-color: var(--fill-color);\n",
              "      border-top-color: var(--fill-color);\n",
              "    }\n",
              "    60% {\n",
              "      border-color: transparent;\n",
              "      border-right-color: var(--fill-color);\n",
              "    }\n",
              "    80% {\n",
              "      border-color: transparent;\n",
              "      border-right-color: var(--fill-color);\n",
              "      border-bottom-color: var(--fill-color);\n",
              "    }\n",
              "    90% {\n",
              "      border-color: transparent;\n",
              "      border-bottom-color: var(--fill-color);\n",
              "    }\n",
              "  }\n",
              "</style>\n",
              "\n",
              "      <script>\n",
              "        async function quickchart(key) {\n",
              "          const quickchartButtonEl =\n",
              "            document.querySelector('#' + key + ' button');\n",
              "          quickchartButtonEl.disabled = true;  // To prevent multiple clicks.\n",
              "          quickchartButtonEl.classList.add('colab-df-spinner');\n",
              "          try {\n",
              "            const charts = await google.colab.kernel.invokeFunction(\n",
              "                'suggestCharts', [key], {});\n",
              "          } catch (error) {\n",
              "            console.error('Error during call to suggestCharts:', error);\n",
              "          }\n",
              "          quickchartButtonEl.classList.remove('colab-df-spinner');\n",
              "          quickchartButtonEl.classList.add('colab-df-quickchart-complete');\n",
              "        }\n",
              "        (() => {\n",
              "          let quickchartButtonEl =\n",
              "            document.querySelector('#df-7b658159-4a48-416a-a231-55e8fa4853a1 button');\n",
              "          quickchartButtonEl.style.display =\n",
              "            google.colab.kernel.accessAllowed ? 'block' : 'none';\n",
              "        })();\n",
              "      </script>\n",
              "    </div>\n",
              "\n",
              "    </div>\n",
              "  </div>\n"
            ],
            "application/vnd.google.colaboratory.intrinsic+json": {
              "type": "dataframe",
              "summary": "{\n  \"name\": \"display(df_clean[critical_cols]\",\n  \"rows\": 8,\n  \"fields\": [\n    {\n      \"column\": \"trip_distance\",\n      \"properties\": {\n        \"dtype\": \"number\",\n        \"std\": 3505009.4669184005,\n        \"min\": 0.01,\n        \"max\": 9940965.0,\n        \"num_unique_values\": 8,\n        \"samples\": [\n          3.8604293939270486,\n          1.78,\n          9940965.0\n        ],\n        \"semantic_type\": \"\",\n        \"description\": \"\"\n      }\n    },\n    {\n      \"column\": \"fare_amount\",\n      \"properties\": {\n        \"dtype\": \"number\",\n        \"std\": 3618468.230218838,\n        \"min\": -1087.3,\n        \"max\": 10235334.0,\n        \"num_unique_values\": 8,\n        \"samples\": [\n          19.803914778941248,\n          14.2,\n          10235334.0\n        ],\n        \"semantic_type\": \"\",\n        \"description\": \"\"\n      }\n    },\n    {\n      \"column\": \"total_amount\",\n      \"properties\": {\n        \"dtype\": \"number\",\n        \"std\": 3619086.8409416727,\n        \"min\": -1094.05,\n        \"max\": 10237088.0,\n        \"num_unique_values\": 8,\n        \"samples\": [\n          28.81269823215353,\n          21.48,\n          10237088.0\n        ],\n        \"semantic_type\": \"\",\n        \"description\": \"\"\n      }\n    }\n  ]\n}"
            }
          },
          "metadata": {}
        },
        {
          "output_type": "stream",
          "name": "stdout",
          "text": [
            "\n",
            " Cleaned Dataset Statistics:\n"
          ]
        },
        {
          "output_type": "display_data",
          "data": {
            "text/plain": [
              "       trip_distance   fare_amount  total_amount\n",
              "count   9.813848e+06  9.813848e+06  9.813848e+06\n",
              "mean    3.873232e+00  1.973001e+01  2.886376e+01\n",
              "std     1.636189e+02  1.852719e+01  2.353743e+01\n",
              "min     1.000000e-02 -1.087300e+03 -1.094050e+03\n",
              "25%     1.060000e+00  9.300000e+00  1.610000e+01\n",
              "50%     1.780000e+00  1.420000e+01  2.148000e+01\n",
              "75%     3.390000e+00  2.260000e+01  3.156000e+01\n",
              "max     2.055442e+05  2.320110e+03  2.372790e+03"
            ],
            "text/html": [
              "\n",
              "  <div id=\"df-b4682e92-0cbd-4a86-bd1f-00b99dd10a04\" class=\"colab-df-container\">\n",
              "    <div>\n",
              "<style scoped>\n",
              "    .dataframe tbody tr th:only-of-type {\n",
              "        vertical-align: middle;\n",
              "    }\n",
              "\n",
              "    .dataframe tbody tr th {\n",
              "        vertical-align: top;\n",
              "    }\n",
              "\n",
              "    .dataframe thead th {\n",
              "        text-align: right;\n",
              "    }\n",
              "</style>\n",
              "<table border=\"1\" class=\"dataframe\">\n",
              "  <thead>\n",
              "    <tr style=\"text-align: right;\">\n",
              "      <th></th>\n",
              "      <th>trip_distance</th>\n",
              "      <th>fare_amount</th>\n",
              "      <th>total_amount</th>\n",
              "    </tr>\n",
              "  </thead>\n",
              "  <tbody>\n",
              "    <tr>\n",
              "      <th>count</th>\n",
              "      <td>9.813848e+06</td>\n",
              "      <td>9.813848e+06</td>\n",
              "      <td>9.813848e+06</td>\n",
              "    </tr>\n",
              "    <tr>\n",
              "      <th>mean</th>\n",
              "      <td>3.873232e+00</td>\n",
              "      <td>1.973001e+01</td>\n",
              "      <td>2.886376e+01</td>\n",
              "    </tr>\n",
              "    <tr>\n",
              "      <th>std</th>\n",
              "      <td>1.636189e+02</td>\n",
              "      <td>1.852719e+01</td>\n",
              "      <td>2.353743e+01</td>\n",
              "    </tr>\n",
              "    <tr>\n",
              "      <th>min</th>\n",
              "      <td>1.000000e-02</td>\n",
              "      <td>-1.087300e+03</td>\n",
              "      <td>-1.094050e+03</td>\n",
              "    </tr>\n",
              "    <tr>\n",
              "      <th>25%</th>\n",
              "      <td>1.060000e+00</td>\n",
              "      <td>9.300000e+00</td>\n",
              "      <td>1.610000e+01</td>\n",
              "    </tr>\n",
              "    <tr>\n",
              "      <th>50%</th>\n",
              "      <td>1.780000e+00</td>\n",
              "      <td>1.420000e+01</td>\n",
              "      <td>2.148000e+01</td>\n",
              "    </tr>\n",
              "    <tr>\n",
              "      <th>75%</th>\n",
              "      <td>3.390000e+00</td>\n",
              "      <td>2.260000e+01</td>\n",
              "      <td>3.156000e+01</td>\n",
              "    </tr>\n",
              "    <tr>\n",
              "      <th>max</th>\n",
              "      <td>2.055442e+05</td>\n",
              "      <td>2.320110e+03</td>\n",
              "      <td>2.372790e+03</td>\n",
              "    </tr>\n",
              "  </tbody>\n",
              "</table>\n",
              "</div>\n",
              "    <div class=\"colab-df-buttons\">\n",
              "\n",
              "  <div class=\"colab-df-container\">\n",
              "    <button class=\"colab-df-convert\" onclick=\"convertToInteractive('df-b4682e92-0cbd-4a86-bd1f-00b99dd10a04')\"\n",
              "            title=\"Convert this dataframe to an interactive table.\"\n",
              "            style=\"display:none;\">\n",
              "\n",
              "  <svg xmlns=\"http://www.w3.org/2000/svg\" height=\"24px\" viewBox=\"0 -960 960 960\">\n",
              "    <path d=\"M120-120v-720h720v720H120Zm60-500h600v-160H180v160Zm220 220h160v-160H400v160Zm0 220h160v-160H400v160ZM180-400h160v-160H180v160Zm440 0h160v-160H620v160ZM180-180h160v-160H180v160Zm440 0h160v-160H620v160Z\"/>\n",
              "  </svg>\n",
              "    </button>\n",
              "\n",
              "  <style>\n",
              "    .colab-df-container {\n",
              "      display:flex;\n",
              "      gap: 12px;\n",
              "    }\n",
              "\n",
              "    .colab-df-convert {\n",
              "      background-color: #E8F0FE;\n",
              "      border: none;\n",
              "      border-radius: 50%;\n",
              "      cursor: pointer;\n",
              "      display: none;\n",
              "      fill: #1967D2;\n",
              "      height: 32px;\n",
              "      padding: 0 0 0 0;\n",
              "      width: 32px;\n",
              "    }\n",
              "\n",
              "    .colab-df-convert:hover {\n",
              "      background-color: #E2EBFA;\n",
              "      box-shadow: 0px 1px 2px rgba(60, 64, 67, 0.3), 0px 1px 3px 1px rgba(60, 64, 67, 0.15);\n",
              "      fill: #174EA6;\n",
              "    }\n",
              "\n",
              "    .colab-df-buttons div {\n",
              "      margin-bottom: 4px;\n",
              "    }\n",
              "\n",
              "    [theme=dark] .colab-df-convert {\n",
              "      background-color: #3B4455;\n",
              "      fill: #D2E3FC;\n",
              "    }\n",
              "\n",
              "    [theme=dark] .colab-df-convert:hover {\n",
              "      background-color: #434B5C;\n",
              "      box-shadow: 0px 1px 3px 1px rgba(0, 0, 0, 0.15);\n",
              "      filter: drop-shadow(0px 1px 2px rgba(0, 0, 0, 0.3));\n",
              "      fill: #FFFFFF;\n",
              "    }\n",
              "  </style>\n",
              "\n",
              "    <script>\n",
              "      const buttonEl =\n",
              "        document.querySelector('#df-b4682e92-0cbd-4a86-bd1f-00b99dd10a04 button.colab-df-convert');\n",
              "      buttonEl.style.display =\n",
              "        google.colab.kernel.accessAllowed ? 'block' : 'none';\n",
              "\n",
              "      async function convertToInteractive(key) {\n",
              "        const element = document.querySelector('#df-b4682e92-0cbd-4a86-bd1f-00b99dd10a04');\n",
              "        const dataTable =\n",
              "          await google.colab.kernel.invokeFunction('convertToInteractive',\n",
              "                                                    [key], {});\n",
              "        if (!dataTable) return;\n",
              "\n",
              "        const docLinkHtml = 'Like what you see? Visit the ' +\n",
              "          '<a target=\"_blank\" href=https://colab.research.google.com/notebooks/data_table.ipynb>data table notebook</a>'\n",
              "          + ' to learn more about interactive tables.';\n",
              "        element.innerHTML = '';\n",
              "        dataTable['output_type'] = 'display_data';\n",
              "        await google.colab.output.renderOutput(dataTable, element);\n",
              "        const docLink = document.createElement('div');\n",
              "        docLink.innerHTML = docLinkHtml;\n",
              "        element.appendChild(docLink);\n",
              "      }\n",
              "    </script>\n",
              "  </div>\n",
              "\n",
              "\n",
              "    <div id=\"df-de7640cf-dac4-4c78-9e1a-0b53fca82d77\">\n",
              "      <button class=\"colab-df-quickchart\" onclick=\"quickchart('df-de7640cf-dac4-4c78-9e1a-0b53fca82d77')\"\n",
              "                title=\"Suggest charts\"\n",
              "                style=\"display:none;\">\n",
              "\n",
              "<svg xmlns=\"http://www.w3.org/2000/svg\" height=\"24px\"viewBox=\"0 0 24 24\"\n",
              "     width=\"24px\">\n",
              "    <g>\n",
              "        <path d=\"M19 3H5c-1.1 0-2 .9-2 2v14c0 1.1.9 2 2 2h14c1.1 0 2-.9 2-2V5c0-1.1-.9-2-2-2zM9 17H7v-7h2v7zm4 0h-2V7h2v10zm4 0h-2v-4h2v4z\"/>\n",
              "    </g>\n",
              "</svg>\n",
              "      </button>\n",
              "\n",
              "<style>\n",
              "  .colab-df-quickchart {\n",
              "      --bg-color: #E8F0FE;\n",
              "      --fill-color: #1967D2;\n",
              "      --hover-bg-color: #E2EBFA;\n",
              "      --hover-fill-color: #174EA6;\n",
              "      --disabled-fill-color: #AAA;\n",
              "      --disabled-bg-color: #DDD;\n",
              "  }\n",
              "\n",
              "  [theme=dark] .colab-df-quickchart {\n",
              "      --bg-color: #3B4455;\n",
              "      --fill-color: #D2E3FC;\n",
              "      --hover-bg-color: #434B5C;\n",
              "      --hover-fill-color: #FFFFFF;\n",
              "      --disabled-bg-color: #3B4455;\n",
              "      --disabled-fill-color: #666;\n",
              "  }\n",
              "\n",
              "  .colab-df-quickchart {\n",
              "    background-color: var(--bg-color);\n",
              "    border: none;\n",
              "    border-radius: 50%;\n",
              "    cursor: pointer;\n",
              "    display: none;\n",
              "    fill: var(--fill-color);\n",
              "    height: 32px;\n",
              "    padding: 0;\n",
              "    width: 32px;\n",
              "  }\n",
              "\n",
              "  .colab-df-quickchart:hover {\n",
              "    background-color: var(--hover-bg-color);\n",
              "    box-shadow: 0 1px 2px rgba(60, 64, 67, 0.3), 0 1px 3px 1px rgba(60, 64, 67, 0.15);\n",
              "    fill: var(--button-hover-fill-color);\n",
              "  }\n",
              "\n",
              "  .colab-df-quickchart-complete:disabled,\n",
              "  .colab-df-quickchart-complete:disabled:hover {\n",
              "    background-color: var(--disabled-bg-color);\n",
              "    fill: var(--disabled-fill-color);\n",
              "    box-shadow: none;\n",
              "  }\n",
              "\n",
              "  .colab-df-spinner {\n",
              "    border: 2px solid var(--fill-color);\n",
              "    border-color: transparent;\n",
              "    border-bottom-color: var(--fill-color);\n",
              "    animation:\n",
              "      spin 1s steps(1) infinite;\n",
              "  }\n",
              "\n",
              "  @keyframes spin {\n",
              "    0% {\n",
              "      border-color: transparent;\n",
              "      border-bottom-color: var(--fill-color);\n",
              "      border-left-color: var(--fill-color);\n",
              "    }\n",
              "    20% {\n",
              "      border-color: transparent;\n",
              "      border-left-color: var(--fill-color);\n",
              "      border-top-color: var(--fill-color);\n",
              "    }\n",
              "    30% {\n",
              "      border-color: transparent;\n",
              "      border-left-color: var(--fill-color);\n",
              "      border-top-color: var(--fill-color);\n",
              "      border-right-color: var(--fill-color);\n",
              "    }\n",
              "    40% {\n",
              "      border-color: transparent;\n",
              "      border-right-color: var(--fill-color);\n",
              "      border-top-color: var(--fill-color);\n",
              "    }\n",
              "    60% {\n",
              "      border-color: transparent;\n",
              "      border-right-color: var(--fill-color);\n",
              "    }\n",
              "    80% {\n",
              "      border-color: transparent;\n",
              "      border-right-color: var(--fill-color);\n",
              "      border-bottom-color: var(--fill-color);\n",
              "    }\n",
              "    90% {\n",
              "      border-color: transparent;\n",
              "      border-bottom-color: var(--fill-color);\n",
              "    }\n",
              "  }\n",
              "</style>\n",
              "\n",
              "      <script>\n",
              "        async function quickchart(key) {\n",
              "          const quickchartButtonEl =\n",
              "            document.querySelector('#' + key + ' button');\n",
              "          quickchartButtonEl.disabled = true;  // To prevent multiple clicks.\n",
              "          quickchartButtonEl.classList.add('colab-df-spinner');\n",
              "          try {\n",
              "            const charts = await google.colab.kernel.invokeFunction(\n",
              "                'suggestCharts', [key], {});\n",
              "          } catch (error) {\n",
              "            console.error('Error during call to suggestCharts:', error);\n",
              "          }\n",
              "          quickchartButtonEl.classList.remove('colab-df-spinner');\n",
              "          quickchartButtonEl.classList.add('colab-df-quickchart-complete');\n",
              "        }\n",
              "        (() => {\n",
              "          let quickchartButtonEl =\n",
              "            document.querySelector('#df-de7640cf-dac4-4c78-9e1a-0b53fca82d77 button');\n",
              "          quickchartButtonEl.style.display =\n",
              "            google.colab.kernel.accessAllowed ? 'block' : 'none';\n",
              "        })();\n",
              "      </script>\n",
              "    </div>\n",
              "\n",
              "    </div>\n",
              "  </div>\n"
            ],
            "application/vnd.google.colaboratory.intrinsic+json": {
              "type": "dataframe",
              "summary": "{\n  \"name\": \"display(df_clean[critical_cols]\",\n  \"rows\": 8,\n  \"fields\": [\n    {\n      \"column\": \"trip_distance\",\n      \"properties\": {\n        \"dtype\": \"number\",\n        \"std\": 3460076.349103103,\n        \"min\": 0.01,\n        \"max\": 9813848.0,\n        \"num_unique_values\": 8,\n        \"samples\": [\n          3.8732322255245837,\n          1.78,\n          9813848.0\n        ],\n        \"semantic_type\": \"\",\n        \"description\": \"\"\n      }\n    },\n    {\n      \"column\": \"fare_amount\",\n      \"properties\": {\n        \"dtype\": \"number\",\n        \"std\": 3469652.8382601077,\n        \"min\": -1087.3,\n        \"max\": 9813848.0,\n        \"num_unique_values\": 8,\n        \"samples\": [\n          19.730014115767847,\n          14.2,\n          9813848.0\n        ],\n        \"semantic_type\": \"\",\n        \"description\": \"\"\n      }\n    },\n    {\n      \"column\": \"total_amount\",\n      \"properties\": {\n        \"dtype\": \"number\",\n        \"std\": 3469648.6451307526,\n        \"min\": -1094.05,\n        \"max\": 9813848.0,\n        \"num_unique_values\": 8,\n        \"samples\": [\n          28.86376226837827,\n          21.48,\n          9813848.0\n        ],\n        \"semantic_type\": \"\",\n        \"description\": \"\"\n      }\n    }\n  ]\n}"
            }
          },
          "metadata": {}
        }
      ]
    },
    {
      "cell_type": "code",
      "source": [
        "files.download(\"NYC_Taxi_Cleaned_3Months.csv\")\n",
        "# Download the cleaned CSV file"
      ],
      "metadata": {
        "colab": {
          "base_uri": "https://localhost:8080/",
          "height": 17
        },
        "id": "SXjl5vx_caZB",
        "outputId": "df8eceb5-006a-447c-900a-1816fadab5d6"
      },
      "execution_count": 19,
      "outputs": [
        {
          "output_type": "display_data",
          "data": {
            "text/plain": [
              "<IPython.core.display.Javascript object>"
            ],
            "application/javascript": [
              "\n",
              "    async function download(id, filename, size) {\n",
              "      if (!google.colab.kernel.accessAllowed) {\n",
              "        return;\n",
              "      }\n",
              "      const div = document.createElement('div');\n",
              "      const label = document.createElement('label');\n",
              "      label.textContent = `Downloading \"${filename}\": `;\n",
              "      div.appendChild(label);\n",
              "      const progress = document.createElement('progress');\n",
              "      progress.max = size;\n",
              "      div.appendChild(progress);\n",
              "      document.body.appendChild(div);\n",
              "\n",
              "      const buffers = [];\n",
              "      let downloaded = 0;\n",
              "\n",
              "      const channel = await google.colab.kernel.comms.open(id);\n",
              "      // Send a message to notify the kernel that we're ready.\n",
              "      channel.send({})\n",
              "\n",
              "      for await (const message of channel.messages) {\n",
              "        // Send a message to notify the kernel that we're ready.\n",
              "        channel.send({})\n",
              "        if (message.buffers) {\n",
              "          for (const buffer of message.buffers) {\n",
              "            buffers.push(buffer);\n",
              "            downloaded += buffer.byteLength;\n",
              "            progress.value = downloaded;\n",
              "          }\n",
              "        }\n",
              "      }\n",
              "      const blob = new Blob(buffers, {type: 'application/binary'});\n",
              "      const a = document.createElement('a');\n",
              "      a.href = window.URL.createObjectURL(blob);\n",
              "      a.download = filename;\n",
              "      div.appendChild(a);\n",
              "      a.click();\n",
              "      div.remove();\n",
              "    }\n",
              "  "
            ]
          },
          "metadata": {}
        },
        {
          "output_type": "display_data",
          "data": {
            "text/plain": [
              "<IPython.core.display.Javascript object>"
            ],
            "application/javascript": [
              "download(\"download_b32914ca-eabe-4ad1-9aed-1d30a341d496\", \"NYC_Taxi_Cleaned_3Months.csv\", 995996211)"
            ]
          },
          "metadata": {}
        }
      ]
    },
    {
      "cell_type": "code",
      "source": [
        "df_oct = pd.read_csv(\"NYC_Taxi_Dataset_October.csv\")\n",
        "df_nov = pd.read_csv(\"NYC_Taxi_Dataset_November.csv\")\n",
        "df_dec = pd.read_csv(\"NYC_Taxi_Dataset_December.csv\")\n",
        "# Load your original (uncleaned) monthly datasets"
      ],
      "metadata": {
        "colab": {
          "base_uri": "https://localhost:8080/"
        },
        "id": "wvoXZM2RcmWG",
        "outputId": "a349531e-be67-42fe-c52a-4ed68388d484"
      },
      "execution_count": 3,
      "outputs": [
        {
          "output_type": "stream",
          "name": "stderr",
          "text": [
            "/tmp/ipython-input-986316226.py:1: DtypeWarning: Columns (3,5,17,18) have mixed types. Specify dtype option on import or set low_memory=False.\n",
            "  df_oct = pd.read_csv(\"NYC_Taxi_Dataset_October.csv\")\n",
            "/tmp/ipython-input-986316226.py:2: DtypeWarning: Columns (3,5,17,18) have mixed types. Specify dtype option on import or set low_memory=False.\n",
            "  df_nov = pd.read_csv(\"NYC_Taxi_Dataset_November.csv\")\n",
            "/tmp/ipython-input-986316226.py:3: DtypeWarning: Columns (3,5,17,18) have mixed types. Specify dtype option on import or set low_memory=False.\n",
            "  df_dec = pd.read_csv(\"NYC_Taxi_Dataset_December.csv\")\n"
          ]
        }
      ]
    },
    {
      "cell_type": "code",
      "source": [
        "df_raw = pd.concat([df_oct, df_nov, df_dec], ignore_index=True)\n",
        "print(\"Combined raw dataset shape:\", df_raw.shape)\n",
        "#Combine them into one dataset"
      ],
      "metadata": {
        "colab": {
          "base_uri": "https://localhost:8080/"
        },
        "id": "ozu5QFKWeNiX",
        "outputId": "501c5ff4-762a-437d-8912-7a5b54a1864b"
      },
      "execution_count": 4,
      "outputs": [
        {
          "output_type": "stream",
          "name": "stdout",
          "text": [
            "Combined raw dataset shape: (10238567, 19)\n"
          ]
        }
      ]
    },
    {
      "cell_type": "code",
      "source": [
        "df_raw.to_csv(\"NYC_Taxi_Raw_Oct_Nov_Dec.csv\", index=False)\n",
        "# Save as CSV"
      ],
      "metadata": {
        "id": "qh9sJ2eueln-"
      },
      "execution_count": 5,
      "outputs": []
    },
    {
      "cell_type": "code",
      "source": [
        "from google.colab import files\n",
        "files.download(\"NYC_Taxi_Raw_Oct_Nov_Dec.csv\")\n",
        "# Download to your computer"
      ],
      "metadata": {
        "colab": {
          "base_uri": "https://localhost:8080/",
          "height": 17
        },
        "id": "jFN8joBwfX2T",
        "outputId": "4ed6de8f-a5ec-4d80-c2bc-b77c436a2310"
      },
      "execution_count": 6,
      "outputs": [
        {
          "output_type": "display_data",
          "data": {
            "text/plain": [
              "<IPython.core.display.Javascript object>"
            ],
            "application/javascript": [
              "\n",
              "    async function download(id, filename, size) {\n",
              "      if (!google.colab.kernel.accessAllowed) {\n",
              "        return;\n",
              "      }\n",
              "      const div = document.createElement('div');\n",
              "      const label = document.createElement('label');\n",
              "      label.textContent = `Downloading \"${filename}\": `;\n",
              "      div.appendChild(label);\n",
              "      const progress = document.createElement('progress');\n",
              "      progress.max = size;\n",
              "      div.appendChild(progress);\n",
              "      document.body.appendChild(div);\n",
              "\n",
              "      const buffers = [];\n",
              "      let downloaded = 0;\n",
              "\n",
              "      const channel = await google.colab.kernel.comms.open(id);\n",
              "      // Send a message to notify the kernel that we're ready.\n",
              "      channel.send({})\n",
              "\n",
              "      for await (const message of channel.messages) {\n",
              "        // Send a message to notify the kernel that we're ready.\n",
              "        channel.send({})\n",
              "        if (message.buffers) {\n",
              "          for (const buffer of message.buffers) {\n",
              "            buffers.push(buffer);\n",
              "            downloaded += buffer.byteLength;\n",
              "            progress.value = downloaded;\n",
              "          }\n",
              "        }\n",
              "      }\n",
              "      const blob = new Blob(buffers, {type: 'application/binary'});\n",
              "      const a = document.createElement('a');\n",
              "      a.href = window.URL.createObjectURL(blob);\n",
              "      a.download = filename;\n",
              "      div.appendChild(a);\n",
              "      a.click();\n",
              "      div.remove();\n",
              "    }\n",
              "  "
            ]
          },
          "metadata": {}
        },
        {
          "output_type": "display_data",
          "data": {
            "text/plain": [
              "<IPython.core.display.Javascript object>"
            ],
            "application/javascript": [
              "download(\"download_95c8f514-1ade-4bed-8ff2-11627bde7636\", \"NYC_Taxi_Raw_Oct_Nov_Dec.csv\", 1182230159)"
            ]
          },
          "metadata": {}
        }
      ]
    },
    {
      "cell_type": "code",
      "source": [
        "# Import pandas library\n",
        "import pandas as pd\n",
        "\n",
        "# loading datasets to create smaller copy for github \"raw dataset\"\n",
        "df_raw = pd.read_csv(\"NYC_Taxi_Raw_Oct_Nov_Dec.csv\")\n",
        "\n",
        "# # loading datasets to create smaller copy for github \"cleaned dataset\"\n",
        "df_clean = pd.read_csv(\"NYC_Taxi_Cleaned_3Months.csv\")"
      ],
      "metadata": {
        "colab": {
          "base_uri": "https://localhost:8080/"
        },
        "id": "hNHNDBfrf_oG",
        "outputId": "aafe882e-a4ce-4281-8eff-eac052134b70"
      },
      "execution_count": 5,
      "outputs": [
        {
          "output_type": "stream",
          "name": "stderr",
          "text": [
            "/tmp/ipython-input-3584411964.py:5: DtypeWarning: Columns (3,5,17,18) have mixed types. Specify dtype option on import or set low_memory=False.\n",
            "  df_raw = pd.read_csv(\"NYC_Taxi_Raw_Oct_Nov_Dec.csv\")\n",
            "/tmp/ipython-input-3584411964.py:8: DtypeWarning: Columns (3,5,17,18) have mixed types. Specify dtype option on import or set low_memory=False.\n",
            "  df_clean = pd.read_csv(\"NYC_Taxi_Cleaned_3Months.csv\")\n"
          ]
        }
      ]
    },
    {
      "cell_type": "code",
      "source": [
        "def sample_25mb(df, filename):\n",
        "    frac = min(1, 25 / (df.memory_usage(index=True).sum() / 1024 / 1024))\n",
        "    df_sample = df.sample(frac=frac, random_state=42)\n",
        "    df_sample.to_csv(filename, index=False)\n",
        "    print(f\"{filename} saved, shape: {df_sample.shape}\")\n",
        "    return df_sample\n",
        "    # Function to create approximate 25MB Copy"
      ],
      "metadata": {
        "id": "gg1cRzOBh9I-"
      },
      "execution_count": 1,
      "outputs": []
    },
    {
      "cell_type": "code",
      "source": [
        "df_raw_sample = sample_25mb(df_raw, \"NYC_Taxi_Raw_25MB.csv\")\n",
        "df_clean_sample = sample_25mb(df_clean, \"NYC_Taxi_Cleaned_25MB.csv\")\n",
        "# Create Copies"
      ],
      "metadata": {
        "colab": {
          "base_uri": "https://localhost:8080/"
        },
        "id": "4aKbb6MsiVrR",
        "outputId": "6970c825-53bd-4891-fd12-37b47d191403"
      },
      "execution_count": 6,
      "outputs": [
        {
          "output_type": "stream",
          "name": "stdout",
          "text": [
            "NYC_Taxi_Raw_25MB.csv saved, shape: (172463, 19)\n",
            "NYC_Taxi_Cleaned_25MB.csv saved, shape: (172463, 19)\n"
          ]
        }
      ]
    },
    {
      "cell_type": "code",
      "source": [
        "from google.colab import files\n",
        "files.download(\"NYC_Taxi_Cleaned_25MB.csv\")\n",
        "#download files"
      ],
      "metadata": {
        "colab": {
          "base_uri": "https://localhost:8080/",
          "height": 17
        },
        "id": "ElxZyodsic4s",
        "outputId": "3c935097-848e-4372-e58c-42697f728cb6"
      },
      "execution_count": 11,
      "outputs": [
        {
          "output_type": "display_data",
          "data": {
            "text/plain": [
              "<IPython.core.display.Javascript object>"
            ],
            "application/javascript": [
              "\n",
              "    async function download(id, filename, size) {\n",
              "      if (!google.colab.kernel.accessAllowed) {\n",
              "        return;\n",
              "      }\n",
              "      const div = document.createElement('div');\n",
              "      const label = document.createElement('label');\n",
              "      label.textContent = `Downloading \"${filename}\": `;\n",
              "      div.appendChild(label);\n",
              "      const progress = document.createElement('progress');\n",
              "      progress.max = size;\n",
              "      div.appendChild(progress);\n",
              "      document.body.appendChild(div);\n",
              "\n",
              "      const buffers = [];\n",
              "      let downloaded = 0;\n",
              "\n",
              "      const channel = await google.colab.kernel.comms.open(id);\n",
              "      // Send a message to notify the kernel that we're ready.\n",
              "      channel.send({})\n",
              "\n",
              "      for await (const message of channel.messages) {\n",
              "        // Send a message to notify the kernel that we're ready.\n",
              "        channel.send({})\n",
              "        if (message.buffers) {\n",
              "          for (const buffer of message.buffers) {\n",
              "            buffers.push(buffer);\n",
              "            downloaded += buffer.byteLength;\n",
              "            progress.value = downloaded;\n",
              "          }\n",
              "        }\n",
              "      }\n",
              "      const blob = new Blob(buffers, {type: 'application/binary'});\n",
              "      const a = document.createElement('a');\n",
              "      a.href = window.URL.createObjectURL(blob);\n",
              "      a.download = filename;\n",
              "      div.appendChild(a);\n",
              "      a.click();\n",
              "      div.remove();\n",
              "    }\n",
              "  "
            ]
          },
          "metadata": {}
        },
        {
          "output_type": "display_data",
          "data": {
            "text/plain": [
              "<IPython.core.display.Javascript object>"
            ],
            "application/javascript": [
              "download(\"download_c4fc09af-9717-4063-9b2d-9edb626baf41\", \"NYC_Taxi_Cleaned_25MB.csv\", 17505648)"
            ]
          },
          "metadata": {}
        }
      ]
    },
    {
      "cell_type": "code",
      "source": [
        "from google.colab import files\n",
        "files.download(\"NYC_Taxi_Raw_25MB.csv\")\n",
        "#download files"
      ],
      "metadata": {
        "colab": {
          "base_uri": "https://localhost:8080/",
          "height": 17
        },
        "id": "h4lOfrS6jtA-",
        "outputId": "c680a9c2-0b3a-43e0-83e4-209a5815f1ed"
      },
      "execution_count": 12,
      "outputs": [
        {
          "output_type": "display_data",
          "data": {
            "text/plain": [
              "<IPython.core.display.Javascript object>"
            ],
            "application/javascript": [
              "\n",
              "    async function download(id, filename, size) {\n",
              "      if (!google.colab.kernel.accessAllowed) {\n",
              "        return;\n",
              "      }\n",
              "      const div = document.createElement('div');\n",
              "      const label = document.createElement('label');\n",
              "      label.textContent = `Downloading \"${filename}\": `;\n",
              "      div.appendChild(label);\n",
              "      const progress = document.createElement('progress');\n",
              "      progress.max = size;\n",
              "      div.appendChild(progress);\n",
              "      document.body.appendChild(div);\n",
              "\n",
              "      const buffers = [];\n",
              "      let downloaded = 0;\n",
              "\n",
              "      const channel = await google.colab.kernel.comms.open(id);\n",
              "      // Send a message to notify the kernel that we're ready.\n",
              "      channel.send({})\n",
              "\n",
              "      for await (const message of channel.messages) {\n",
              "        // Send a message to notify the kernel that we're ready.\n",
              "        channel.send({})\n",
              "        if (message.buffers) {\n",
              "          for (const buffer of message.buffers) {\n",
              "            buffers.push(buffer);\n",
              "            downloaded += buffer.byteLength;\n",
              "            progress.value = downloaded;\n",
              "          }\n",
              "        }\n",
              "      }\n",
              "      const blob = new Blob(buffers, {type: 'application/binary'});\n",
              "      const a = document.createElement('a');\n",
              "      a.href = window.URL.createObjectURL(blob);\n",
              "      a.download = filename;\n",
              "      div.appendChild(a);\n",
              "      a.click();\n",
              "      div.remove();\n",
              "    }\n",
              "  "
            ]
          },
          "metadata": {}
        },
        {
          "output_type": "display_data",
          "data": {
            "text/plain": [
              "<IPython.core.display.Javascript object>"
            ],
            "application/javascript": [
              "download(\"download_432885cb-7ea7-4c99-a93a-90b70ba96b64\", \"NYC_Taxi_Raw_25MB.csv\", 19915457)"
            ]
          },
          "metadata": {}
        }
      ]
    },
    {
      "cell_type": "code",
      "source": [
        "import pandas as pd\n",
        "\n",
        "# Load cleaned dataset (if not already loaded)\n",
        "df_clean = pd.read_csv(\"NYC_Taxi_Cleaned_3Months.csv\")"
      ],
      "metadata": {
        "colab": {
          "base_uri": "https://localhost:8080/"
        },
        "id": "EOeJA-8Wj8mw",
        "outputId": "7305f2ca-1454-49fd-a1c1-4fe09e403776"
      },
      "execution_count": 3,
      "outputs": [
        {
          "output_type": "stream",
          "name": "stderr",
          "text": [
            "/tmp/ipython-input-2441609675.py:4: DtypeWarning: Columns (3,5,17,18) have mixed types. Specify dtype option on import or set low_memory=False.\n",
            "  df_clean = pd.read_csv(\"NYC_Taxi_Cleaned_3Months.csv\")\n"
          ]
        }
      ]
    },
    {
      "cell_type": "code",
      "source": [
        "print(\"✅ Descriptive statistics (numerical columns):\")\n",
        "print(df_clean.describe())\n",
        "# Display descriptive statistics for all numeric columns"
      ],
      "metadata": {
        "colab": {
          "base_uri": "https://localhost:8080/"
        },
        "id": "JYNCEJ7lkcJN",
        "outputId": "cb1fe22c-9690-4534-dd06-e2b9a90128d7"
      },
      "execution_count": 4,
      "outputs": [
        {
          "output_type": "stream",
          "name": "stdout",
          "text": [
            "✅ Descriptive statistics (numerical columns):\n",
            "           VendorID  trip_distance  PULocationID  DOLocationID  payment_type  \\\n",
            "count  9.813848e+06   9.813848e+06  9.813848e+06  9.813848e+06  9.813848e+06   \n",
            "mean   1.769474e+00   3.873232e+00  1.656124e+02  1.645673e+02  1.178439e+00   \n",
            "std    4.244833e-01   1.636189e+02  6.377338e+01  6.954435e+01  5.479680e-01   \n",
            "min    1.000000e+00   1.000000e-02  1.000000e+00  1.000000e+00  0.000000e+00   \n",
            "25%    2.000000e+00   1.060000e+00  1.320000e+02  1.140000e+02  1.000000e+00   \n",
            "50%    2.000000e+00   1.780000e+00  1.620000e+02  1.620000e+02  1.000000e+00   \n",
            "75%    2.000000e+00   3.390000e+00  2.340000e+02  2.340000e+02  1.000000e+00   \n",
            "max    6.000000e+00   2.055442e+05  2.650000e+02  2.650000e+02  4.000000e+00   \n",
            "\n",
            "        fare_amount         extra       mta_tax    tip_amount  tolls_amount  \\\n",
            "count  9.813848e+06  9.813848e+06  9.813848e+06  9.813848e+06  9.813848e+06   \n",
            "mean   1.973001e+01  1.507718e+00  4.860600e-01  3.657661e+00  6.136803e-01   \n",
            "std    1.852719e+01  1.831010e+00  1.115483e-01  4.091673e+00  2.254966e+00   \n",
            "min   -1.087300e+03 -3.917000e+01 -5.000000e-01 -1.000000e+02 -7.775000e+01   \n",
            "25%    9.300000e+00  0.000000e+00  5.000000e-01  1.000000e+00  0.000000e+00   \n",
            "50%    1.420000e+01  1.000000e+00  5.000000e-01  2.940000e+00  0.000000e+00   \n",
            "75%    2.260000e+01  2.500000e+00  5.000000e-01  4.620000e+00  0.000000e+00   \n",
            "max    2.320110e+03  6.500000e+01  5.209000e+01  4.129400e+02  1.613800e+02   \n",
            "\n",
            "       improvement_surcharge  total_amount  \n",
            "count           9.813848e+06  9.813848e+06  \n",
            "mean            9.790341e-01  2.886376e+01  \n",
            "std             2.030712e-01  2.353743e+01  \n",
            "min            -1.000000e+00 -1.094050e+03  \n",
            "25%             1.000000e+00  1.610000e+01  \n",
            "50%             1.000000e+00  2.148000e+01  \n",
            "75%             1.000000e+00  3.156000e+01  \n",
            "max             1.000000e+00  2.372790e+03  \n"
          ]
        }
      ]
    },
    {
      "cell_type": "code",
      "source": [
        "print(\"\\n✅ Descriptive statistics (categorical columns):\")\n",
        "categorical_cols = df_clean.select_dtypes(include='object').columns\n",
        "print(df_clean[categorical_cols].describe())\n",
        "# include categorical columns too"
      ],
      "metadata": {
        "colab": {
          "base_uri": "https://localhost:8080/"
        },
        "id": "eaxRwmHvk1kr",
        "outputId": "dbeab63a-4c86-4c4e-9881-8125c6f45f87"
      },
      "execution_count": 5,
      "outputs": [
        {
          "output_type": "stream",
          "name": "stdout",
          "text": [
            "\n",
            "✅ Descriptive statistics (categorical columns):\n",
            "       tpep_pickup_datetime tpep_dropoff_datetime  passenger_count  \\\n",
            "count               9813848               9813848          9813848   \n",
            "unique              4932425               4928082               18   \n",
            "top     2023-12-05 18:40:31   2023-12-16 00:00:00                1   \n",
            "freq                     13                    28          7179015   \n",
            "\n",
            "        RatecodeID store_and_fwd_flag  congestion_surcharge  Airport_fee  \n",
            "count      9813848            9813848             9813848.0    9813848.0  \n",
            "unique          14                  3                  10.0          8.0  \n",
            "top              1                  N                   2.5          0.0  \n",
            "freq       8917170            9468628             8699559.0    8599598.0  \n"
          ]
        }
      ]
    },
    {
      "cell_type": "code",
      "source": [
        "import numpy as np\n",
        "\n",
        "# Function to calculate % of NaN + 0\n",
        "def missing_and_zero_percentage(df):\n",
        "    return ((df.isna() | (df == 0)).sum() / len(df) * 100).sort_values(ascending=False)\n",
        "\n",
        "# Use the existing DataFrame (replace 'df' with your variable name if different)\n",
        "percent_missing_zero = missing_and_zero_percentage(df_clean)\n",
        "print(\"Percentage of missing (NaN) + zero values per column:\")\n",
        "print(percent_missing_zero)"
      ],
      "metadata": {
        "colab": {
          "base_uri": "https://localhost:8080/"
        },
        "id": "dlH40vyln3WM",
        "outputId": "30572f11-3657-4074-dabf-6178e59e27a3"
      },
      "execution_count": 8,
      "outputs": [
        {
          "output_type": "stream",
          "name": "stdout",
          "text": [
            "Percentage of missing (NaN) + zero values per column:\n",
            "tolls_amount             91.736738\n",
            "Airport_fee              87.627177\n",
            "extra                    41.100677\n",
            "tip_amount               22.285265\n",
            "congestion_surcharge      6.466047\n",
            "payment_type              3.035170\n",
            "mta_tax                   0.752702\n",
            "passenger_count           0.004524\n",
            "improvement_surcharge     0.003444\n",
            "VendorID                  0.000000\n",
            "tpep_pickup_datetime      0.000000\n",
            "tpep_dropoff_datetime     0.000000\n",
            "DOLocationID              0.000000\n",
            "fare_amount               0.000000\n",
            "store_and_fwd_flag        0.000000\n",
            "trip_distance             0.000000\n",
            "RatecodeID                0.000000\n",
            "PULocationID              0.000000\n",
            "total_amount              0.000000\n",
            "dtype: float64\n"
          ]
        }
      ]
    },
    {
      "cell_type": "code",
      "source": [],
      "metadata": {
        "id": "06kT9y6iofOi"
      },
      "execution_count": null,
      "outputs": []
    }
  ],
  "metadata": {
    "colab": {
      "provenance": []
    },
    "kernelspec": {
      "display_name": "Python 3",
      "name": "python3"
    },
    "language_info": {
      "name": "python"
    }
  },
  "nbformat": 4,
  "nbformat_minor": 0
}